{
 "cells": [
  {
   "cell_type": "code",
   "execution_count": 154,
   "metadata": {
    "collapsed": false
   },
   "outputs": [],
   "source": [
    "from __future__ import division\n",
    "import sqlite3\n",
    "import logging\n",
    "from pprint import pprint\n",
    "\n",
    "import time\n",
    "\n",
    "# import itertools\n",
    "from sklearn.cluster import DBSCAN\n",
    "# from sklearn import metrics\n",
    "# from sklearn.datasets.samples_generator import make_blobs\n",
    "# from sklearn.preprocessing import StandardScaler\n",
    "import scipy.cluster.hierarchy as hierarchy_clustering\n",
    "from scipy.spatial.distance import pdist, squareform\n",
    "# from jellyfish import jaro_distance\n",
    "import numpy as np\n",
    "from sacred import Experiment\n",
    "\n",
    "from distances import lcs_distance, fuzzy_distance\n",
    "\n",
    "db_path = '../Database/src/main/resources/test3.db'\n",
    "n_of_authors =  10 ** 3"
   ]
  },
  {
   "cell_type": "code",
   "execution_count": 155,
   "metadata": {
    "collapsed": false
   },
   "outputs": [],
   "source": [
    "def get_primitive_authors(cursor, limit=1000):\n",
    "    \"\"\"\n",
    "\n",
    "    :type cursor: sqlite3.Cursor\n",
    "    :type limit: int\n",
    "    :return: list\n",
    "    \"\"\"\n",
    "    cursor.execute('SELECT * FROM primitive_author LIMIT %d' % limit)\n",
    "    primitive_authors = cursor.fetchall()\n",
    "    return primitive_authors"
   ]
  },
  {
   "cell_type": "code",
   "execution_count": 156,
   "metadata": {
    "collapsed": true
   },
   "outputs": [],
   "source": [
    "conn = sqlite3.connect(db_path)\n",
    "conn.row_factory = sqlite3.Row\n",
    "cursor = conn.cursor()\n",
    "primitive_authors = get_primitive_authors(cursor, n_of_authors)"
   ]
  },
  {
   "cell_type": "code",
   "execution_count": 157,
   "metadata": {
    "collapsed": false
   },
   "outputs": [
    {
     "name": "stdout",
     "output_type": "stream",
     "text": [
      "pdist: 33.035363\n",
      "Outer timer: 33.090378\n",
      "N of connections: 45\n"
     ]
    }
   ],
   "source": [
    "def get_slm_list(authors, distance=fuzzy_distance, eps=0.1):\n",
    "    def distance_func(i, j, key='surname'):\n",
    "        i = int(i[0])\n",
    "        j = int(j[0])\n",
    "        return distance(authors[i][key], authors[j][key])\n",
    "\n",
    "    X = np.array([[i] for i in xrange(len(authors))])\n",
    "    \n",
    "    tic2 = time.time()\n",
    "    Y = pdist(X, distance_func)\n",
    "    print \"pdist: %f\" % (time.time() - tic2)\n",
    "    \n",
    "    distance_matrix = squareform(Y)\n",
    "    distance_matrix[np.tril_indices_from(distance_matrix)] = 1\n",
    "    indices = zip(*np.where(distance_matrix < eps))\n",
    "    return indices\n",
    "\n",
    "tic1 = time.time()\n",
    "slm_pairs =  get_slm_list(primitive_authors)\n",
    "print \"Outer timer: %f\" % (time.time() - tic1)\n",
    "print \"N of connections: %d\" % len(slm_pairs)\n",
    "# for i, j in slm_pairs:\n",
    "#     print \"%d\\t%d\" % (i, j)"
   ]
  },
  {
   "cell_type": "code",
   "execution_count": 158,
   "metadata": {
    "collapsed": false
   },
   "outputs": [],
   "source": [
    "with open('slm_input.txt', 'w') as output:\n",
    "    for i, j in slm_pairs:\n",
    "        output.write(\"%d\\t%d\\n\" % (i, j))"
   ]
  },
  {
   "cell_type": "code",
   "execution_count": 159,
   "metadata": {
    "collapsed": false
   },
   "outputs": [
    {
     "name": "stdout",
     "output_type": "stream",
     "text": [
      "[('0',\n",
      "  [(143, u'Xu, Chen'),\n",
      "   (226, u'Chen, Xi'),\n",
      "   (306, u'Chen, Xiu'),\n",
      "   (705, u'Cao, Xu-Chen')]),\n",
      " ('32', [(939, u'Hashemi, M'), (943, u'Hashemi, S M')]),\n",
      " ('31', [(527, u'Zhang, Hong-Sheng'), (832, u'Zhang, Congsheng')]),\n",
      " ('30', [(32, u'Xu, Tao'), (761, u'Xu, Tao')]),\n",
      " ('6',\n",
      "  [(532, u'Huang, Ying-Hui'), (735, u'Huang, Qing'), (969, u'Huang, Ying')]),\n",
      " ('1', [(162, u'Zhang, Min'), (426, u'Zhang, Min'), (500, u'Zhang, Min')]),\n",
      " ('24', [(301, u'Xu, Yong'), (646, u'Xu, Yong')]),\n",
      " ('25', [(658, u'Zhang, Hao'), (977, u'Zhang, Hao')]),\n",
      " ('26', [(529, u'Li, Hu'), (696, u'Li, Hui')]),\n",
      " ('27', [(518, u'Yang, Ming-Xia'), (715, u'Xia, Yang')]),\n",
      " ('20', [(59, u'Zhang, Heng-Hui'), (594, u'Zhang, Hui')]),\n",
      " ('21', [(625, u'Li, Qiang'), (760, u'Li, Qiang')]),\n",
      " ('22', [(626, u'Wang, Hui'), (862, u'Wang, Hui')]),\n",
      " ('23', [(134, u'Zhu, Zhaowei'), (638, u'Zou, Zhaowei')]),\n",
      " ('28', [(732, u'Liu, Hai-Ying'), (770, u'Liu, Ying')]),\n",
      " ('29', [(595, u'Wang, Jing'), (756, u'Wang, Rujing')]),\n",
      " ('7', [(787, u'Chen, Yun'), (824, u'Zhao, Chen'), (966, u'Chen, Yun Zhao')]),\n",
      " ('11', [(171, u'Li, Yan-Li'), (797, u'Yan, Li')]),\n",
      " ('10', [(161, u'Gu, Xiaohong'), (613, u'Gu, Xiaosong')]),\n",
      " ('13', [(140, u'Zhang, Xiaohua'), (299, u'Zhang, Xiaohui')]),\n",
      " ('12', [(224, u'Lu, Qiu J'), (458, u'Lu, J')]),\n",
      " ('15', [(449, u'Wang, Yong-Qiang'), (470, u'Wang, Yong')]),\n",
      " ('14', [(152, u'Li, Jie'), (447, u'Li, Hong-Jie')]),\n",
      " ('17', [(519, u'Wang, Yan'), (689, u'Wang, Yang')]),\n",
      " ('16', [(69, u'Zhang, Aiping'), (516, u'Zhang, Ping')]),\n",
      " ('19', [(353, u'Chen, Jing-Song'), (549, u'Chen, Jing')]),\n",
      " ('18', [(259, u'Calin, George Adrian'), (524, u'Calin, George A')]),\n",
      " ('2', [(164, u'Wang, Xing'), (648, u'Wang, Xin'), (704, u'Wang, Xin')]),\n",
      " ('8', [(57, u'Liu, Xin'), (102, u'Liu, Xing')]),\n",
      " ('3',\n",
      "  [(221, u'Wang, Cheng'), (720, u'Sheng, Wang'), (800, u'Wang, Shengzi')]),\n",
      " ('9', [(126, u'Wang, Zhongliang'), (420, u'Wang, Hongxiang')]),\n",
      " ('4', [(176, u'Wang, Ping'), (286, u'Wang, Yuping'), (937, u'Wang, Liping')]),\n",
      " ('5', [(304, u'Chen, Lin'), (412, u'Chen, Li'), (553, u'Li, Chen')])]\n"
     ]
    }
   ],
   "source": [
    "clusters = {}\n",
    "with open('slm_output.txt') as input_file:\n",
    "    for i, cluster_id in enumerate(input_file):\n",
    "        cluster_id = cluster_id.strip()\n",
    "        author_id = primitive_authors[i]['_id']\n",
    "        author_surname = primitive_authors[i]['surname']\n",
    "        try:\n",
    "            clusters[cluster_id] += [(author_id, author_surname)]\n",
    "        except KeyError:\n",
    "            clusters[cluster_id] = [(author_id, author_surname)]\n",
    "\n",
    "pprint(filter(lambda (k, v): len(v) >= 2, clusters.items()))"
   ]
  },
  {
   "cell_type": "code",
   "execution_count": 2,
   "metadata": {
    "collapsed": true
   },
   "outputs": [],
   "source": [
    "a = 132"
   ]
  },
  {
   "cell_type": "code",
   "execution_count": 3,
   "metadata": {},
   "outputs": [
    {
     "name": "stdout",
     "output_type": "stream",
     "text": [
      "132\n"
     ]
    }
   ],
   "source": [
    "print a"
   ]
  },
  {
   "cell_type": "code",
   "execution_count": null,
   "metadata": {},
   "outputs": [],
   "source": [
    ""
   ]
  }
 ],
 "metadata": {
  "kernelspec": {
   "display_name": "Python 2",
   "language": "python",
   "name": "python2"
  },
  "language_info": {
   "codemirror_mode": {
    "name": "ipython",
    "version": 2.0
   },
   "file_extension": ".py",
   "mimetype": "text/x-python",
   "name": "python",
   "nbconvert_exporter": "python",
   "pygments_lexer": "ipython2",
   "version": "2.7.11"
  }
 },
 "nbformat": 4,
 "nbformat_minor": 0
}