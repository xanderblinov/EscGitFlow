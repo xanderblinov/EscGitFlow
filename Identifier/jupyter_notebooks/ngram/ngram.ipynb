{
 "cells": [
  {
   "cell_type": "code",
   "execution_count": 14,
   "metadata": {
    "collapsed": false
   },
   "outputs": [],
   "source": [
    "import ngram\n",
    "from pprint import pprint"
   ]
  },
  {
   "cell_type": "code",
   "execution_count": 1,
   "metadata": {
    "collapsed": true
   },
   "outputs": [],
   "source": [
    "names = [('Sergey', 'Demurin'), ('Serjey', 'Demurin'), ('Sergey', 'Dimurin')]"
   ]
  },
  {
   "cell_type": "code",
   "execution_count": 18,
   "metadata": {
    "collapsed": false
   },
   "outputs": [
    {
     "name": "stdout",
     "output_type": "stream",
     "text": [
      "[(('Sergey', 'Demurin'), 1.0),\n",
      " (('Serjey', 'Demurin'), 0.7142857142857143),\n",
      " (('Sergey', 'Dimurin'), 0.7142857142857143)]\n"
     ]
    }
   ],
   "source": [
    "n = 3\n",
    "pad_char = '$'\n",
    "G = ngram.NGram(names, N=n, key=lambda x: (pad_char * n).join(x).lower())\n",
    "# list(G.splititem(('sergey', 'demurin')))\n",
    "pprint(G.searchitem(('demurin', 'sergey')))"
   ]
  },
  {
   "cell_type": "code",
   "execution_count": null,
   "metadata": {
    "collapsed": true
   },
   "outputs": [],
   "source": []
  }
 ],
 "metadata": {
  "kernelspec": {
   "display_name": "Python 2",
   "language": "python",
   "name": "python2"
  },
  "language_info": {
   "codemirror_mode": {
    "name": "ipython",
    "version": 2
   },
   "file_extension": ".py",
   "mimetype": "text/x-python",
   "name": "python",
   "nbconvert_exporter": "python",
   "pygments_lexer": "ipython2",
   "version": "2.7.13"
  }
 },
 "nbformat": 4,
 "nbformat_minor": 2
}
