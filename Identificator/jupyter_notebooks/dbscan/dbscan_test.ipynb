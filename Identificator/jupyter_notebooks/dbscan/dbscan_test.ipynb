{
 "cells": [
  {
   "cell_type": "code",
   "execution_count": 129,
   "metadata": {
    "collapsed": true
   },
   "outputs": [],
   "source": [
    "from __future__ import division\n",
    "from fuzzywuzzy import fuzz\n",
    "import numpy as np\n",
    "import scipy\n",
    "from scipy.spatial.distance import pdist, squareform\n",
    "from sklearn.cluster import DBSCAN"
   ]
  },
  {
   "cell_type": "code",
   "execution_count": 130,
   "metadata": {
    "collapsed": true
   },
   "outputs": [],
   "source": [
    "def average_item_length(sequence):\n",
    "    return sum(len(i) for i in sequence) / len(sequence)"
   ]
  },
  {
   "cell_type": "code",
   "execution_count": 131,
   "metadata": {
    "collapsed": false
   },
   "outputs": [],
   "source": [
    "def fuzzy_distance(string1, string2, partial=False):\n",
    "    # string1 = string1.replace(',', '')\n",
    "    # string2 = string2.replace(',', '')\n",
    "    if partial:\n",
    "        distance_func = fuzz.partial_token_set_ratio\n",
    "    else:\n",
    "        distance_func = fuzz.token_set_ratio\n",
    "#     average_word_length = min(average_item_length(s1.split()), average_item_length(s2.split()))\n",
    "#     print average_word_length\n",
    "    return (1 - distance_func(string1, string2) / 100) #* 10 / average_word_length"
   ]
  },
  {
   "cell_type": "code",
   "execution_count": 108,
   "metadata": {
    "collapsed": false
   },
   "outputs": [
    {
     "name": "stdout",
     "output_type": "stream",
     "text": [
      "3.5\n",
      "0.54\n",
      "7.0\n",
      "0.1\n"
     ]
    }
   ],
   "source": [
    "s1 = u'Chen, Zhi'\n",
    "s2 = u'Xu, Chen'\n",
    "print fuzzy_distance(s1, s2)\n",
    "\n",
    "s1 = u'Wang, Zhongliang'\n",
    "s2 = u'Wang, Hongxiang'\n",
    "print fuzzy_distance(s1, s2)"
   ]
  },
  {
   "cell_type": "code",
   "execution_count": 128,
   "metadata": {
    "collapsed": false
   },
   "outputs": [
    {
     "name": "stdout",
     "output_type": "stream",
     "text": [
      "[array([u'idor', u'midor'], \n",
      "      dtype='<U22'), array([u'twitter'], \n",
      "      dtype='<U22'), array([u'go'], \n",
      "      dtype='<U22'), array([u'urod'], \n",
      "      dtype='<U22'), array([u'aaaaaaaaaaaaaaaaaaaaaa'], \n",
      "      dtype='<U22')]\n"
     ]
    }
   ],
   "source": [
    "def distance_func(i, j):\n",
    "    return fuzzy_distance(names[int(i[0])], names[int(j[0])])\n",
    "\n",
    "names = [u'idor', u'midor', u'twitter', u'go', u'urod', u'aaaaaaaaaaaaaaaaaaaaaa']\n",
    "X = np.array([[i] for i in xrange(len(names))])\n",
    "Y = pdist(X, distance_func)\n",
    "# TODO: try different 'algorithm' values\n",
    "db = DBSCAN(metric='precomputed', eps=0.2, min_samples=1).fit(squareform(Y))\n",
    "# core_samples_mask = np.zeros_like(db.labels_, dtype=bool)\n",
    "# core_samples_mask[db.core_sample_indices_] = True\n",
    "labels = db.labels_\n",
    "\n",
    "n_clusters_ = len(set(labels)) - (1 if -1 in labels else 0)\n",
    "np_names = np.array(names)\n",
    "clustered = [np_names[labels == i] for i in xrange(n_clusters_)]\n",
    "print clustered"
   ]
  },
  {
   "cell_type": "code",
   "execution_count": 132,
   "metadata": {
    "collapsed": false
   },
   "outputs": [
    {
     "data": {
      "text/plain": [
       "0.55"
      ]
     },
     "execution_count": 132,
     "metadata": {},
     "output_type": "execute_result"
    }
   ],
   "source": [
    "fuzzy_distance(u'Zhang, Heng-Hui', u'Duan, Hua')"
   ]
  },
  {
   "cell_type": "code",
   "execution_count": null,
   "metadata": {
    "collapsed": true
   },
   "outputs": [],
   "source": [
    ""
   ]
  }
 ],
 "metadata": {
  "kernelspec": {
   "display_name": "Python 2",
   "language": "python",
   "name": "python2"
  },
  "language_info": {
   "codemirror_mode": {
    "name": "ipython",
    "version": 2.0
   },
   "file_extension": ".py",
   "mimetype": "text/x-python",
   "name": "python",
   "nbconvert_exporter": "python",
   "pygments_lexer": "ipython2",
   "version": "2.7.11"
  }
 },
 "nbformat": 4,
 "nbformat_minor": 0
}