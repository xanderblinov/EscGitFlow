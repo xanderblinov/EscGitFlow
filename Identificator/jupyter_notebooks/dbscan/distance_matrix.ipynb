{
 "cells": [
  {
   "cell_type": "code",
   "execution_count": 12,
   "metadata": {
    "collapsed": false
   },
   "outputs": [],
   "source": [
    "from __future__ import division\n",
    "from fuzzywuzzy import fuzz\n",
    "import numpy as np\n",
    "import scipy\n",
    "from scipy.spatial import distance\n",
    "# from sklearn.cluster import DBSCAN"
   ]
  },
  {
   "cell_type": "code",
   "execution_count": 7,
   "metadata": {
    "collapsed": false
   },
   "outputs": [
    {
     "data": {
      "text/plain": [
       "array([[ 0.        ,  1.41421356],\n",
       "       [ 1.41421356,  0.        ]])"
      ]
     },
     "execution_count": 7,
     "metadata": {},
     "output_type": "execute_result"
    }
   ],
   "source": [
    "coords = [(0, 0), (1, 1)]\n",
    "distance.cdist(coords, coords, 'euclidean')"
   ]
  },
  {
   "cell_type": "code",
   "execution_count": 11,
   "metadata": {
    "collapsed": false
   },
   "outputs": [
    {
     "name": "stdout",
     "output_type": "stream",
     "text": [
      "[ 1.41421356]\n",
      "[[ 0.          1.41421356]\n",
      " [ 1.41421356  0.        ]]\n"
     ]
    }
   ],
   "source": [
    "coords = [(0, 0), (1, 1)]\n",
    "d = distance.pdist(coords, 'euclidean')\n",
    "print d\n",
    "s = distance.squareform(d)\n",
    "print s"
   ]
  },
  {
   "cell_type": "code",
   "execution_count": 13,
   "metadata": {
    "collapsed": true
   },
   "outputs": [],
   "source": [
    "def fuzzy_distance(string1, string2, partial=False):\n",
    "    if partial:\n",
    "        distance_func = fuzz.partial_token_set_ratio\n",
    "    else:\n",
    "        distance_func = fuzz.token_set_ratio\n",
    "    distance = 1 - distance_func(string1, string2) / 100\n",
    "    return distance"
   ]
  },
  {
   "cell_type": "code",
   "execution_count": 30,
   "metadata": {
    "collapsed": false
   },
   "outputs": [
    {
     "data": {
      "text/plain": [
       "array([[ 0.  ,  0.8 ,  0.8 ,  1.  ,  0.64],\n",
       "       [ 0.8 ,  0.  ,  1.  ,  1.  ,  0.82],\n",
       "       [ 0.8 ,  1.  ,  0.  ,  0.78,  0.82],\n",
       "       [ 1.  ,  1.  ,  0.78,  0.  ,  1.  ],\n",
       "       [ 0.64,  0.82,  0.82,  1.  ,  0.  ]])"
      ]
     },
     "execution_count": 30,
     "metadata": {},
     "output_type": "execute_result"
    }
   ],
   "source": [
    "data = ['Hello', 'world', 'peace', 'Java', 'Python']\n",
    "indices = np.arange(len(data)).reshape(-1,1)\n",
    "distance.cdist(indices, indices, lambda a_idx, b_idx: fuzzy_distance(data[int(a_idx[0])], data[int(b_idx[0])]))"
   ]
  },
  {
   "cell_type": "code",
   "execution_count": null,
   "metadata": {
    "collapsed": true
   },
   "outputs": [],
   "source": [
    "class DistanceMatrix(object):\n",
    "    def __init__(self, items, distance_function):\n",
    "        self._items = items\n",
    "        self._distance_function = distance_function\n",
    "        self._distances = \n",
    "\n",
    "    \n",
    "    def get_distance(self, i, j):\n",
    "        pass"
   ]
  },
  {
   "cell_type": "code",
   "execution_count": 38,
   "metadata": {
    "collapsed": false
   },
   "outputs": [
    {
     "name": "stdout",
     "output_type": "stream",
     "text": [
      "[[ 0  1  2  3  4  5  6  7  8  9]\n",
      " [10 11 12 13 14 15 16 17 18 19]\n",
      " [20 21 22 23 24 25 26 27 28 29]\n",
      " [30 31 32 33 34 35 36 37 38 39]\n",
      " [40 41 42 43 44 45 46 47 48 49]\n",
      " [50 51 52 53 54 55 56 57 58 59]\n",
      " [60 61 62 63 64 65 66 67 68 69]\n",
      " [70 71 72 73 74 75 76 77 78 79]\n",
      " [80 81 82 83 84 85 86 87 88 89]\n",
      " [90 91 92 93 94 95 96 97 98 99]]\n",
      "[[ 0  1]\n",
      " [10 11]]\n"
     ]
    }
   ],
   "source": [
    "matrix = np.arange(100).reshape(10, -1)\n",
    "ixgrid = np.ix_([0,1], [0,1])\n",
    "print matrix\n",
    "print matrix[ixgrid]\n",
    "# print matrix[[0,1,2], [5,4,2]]"
   ]
  },
  {
   "cell_type": "code",
   "execution_count": null,
   "metadata": {
    "collapsed": true
   },
   "outputs": [],
   "source": [
    "x = 123"
   ]
  }
 ],
 "metadata": {
  "kernelspec": {
   "display_name": "Python 2",
   "language": "python",
   "name": "python2"
  },
  "language_info": {
   "codemirror_mode": {
    "name": "ipython",
    "version": 2.0
   },
   "file_extension": ".py",
   "mimetype": "text/x-python",
   "name": "python",
   "nbconvert_exporter": "python",
   "pygments_lexer": "ipython2",
   "version": "2.7.11"
  }
 },
 "nbformat": 4,
 "nbformat_minor": 0
}